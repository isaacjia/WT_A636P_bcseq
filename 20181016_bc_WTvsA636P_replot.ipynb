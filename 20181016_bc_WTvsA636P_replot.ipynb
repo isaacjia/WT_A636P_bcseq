{
 "cells": [
  {
   "cell_type": "code",
   "execution_count": 325,
   "metadata": {},
   "outputs": [
    {
     "name": "stdout",
     "output_type": "stream",
     "text": [
      "Populating the interactive namespace from numpy and matplotlib\n"
     ]
    }
   ],
   "source": [
    "%pylab inline"
   ]
  },
  {
   "cell_type": "code",
   "execution_count": 326,
   "metadata": {
    "collapsed": true
   },
   "outputs": [],
   "source": [
    "from __future__ import division\n",
    "import pandas as pd\n",
    "import numpy as np\n",
    "import matplotlib.pyplot as plt\n",
    "import sys\n",
    "import os\n"
   ]
  },
  {
   "cell_type": "code",
   "execution_count": 327,
   "metadata": {
    "collapsed": true
   },
   "outputs": [],
   "source": [
    "bd = '/Users/Isaac/box/Kitzman_lab/data/20180622_WT.vs.A636P/'"
   ]
  },
  {
   "cell_type": "code",
   "execution_count": 328,
   "metadata": {
    "collapsed": true
   },
   "outputs": [],
   "source": [
    "# function that converts clusterBc file top 90% barcodes to a list of barcodes as barcode library. \n",
    "def bc_90ile(clusterBC_file):\n",
    "    fh = open (clusterBC_file, 'r')\n",
    "    bc_total=0\n",
    "    \n",
    "    for bc in fh:\n",
    "        bc_occ = bc.split()[1]\n",
    "        bc_occ = int(bc_occ)\n",
    "        bc_total += bc_occ\n",
    "    fh.close()\n",
    "    \n",
    "    bcs = []\n",
    "    \n",
    "    bc_counter=0\n",
    "    line_counter=0\n",
    "    \n",
    "    fh = open (clusterBC_file, 'r')\n",
    "    for line in fh:\n",
    "        line_counter += 1\n",
    "        bc_num = line.split()[1]\n",
    "        bc_num = int(bc_num)\n",
    "        bc_counter += bc_num\n",
    "        bc = line.split()[0]\n",
    "        bcs.append(bc)\n",
    "        if (bc_counter/np.float64(bc_total)) > (90/100.0):\n",
    "            break\n",
    "    return bcs\n",
    "    fh.close()"
   ]
  },
  {
   "cell_type": "code",
   "execution_count": 329,
   "metadata": {},
   "outputs": [
    {
     "name": "stdout",
     "output_type": "stream",
     "text": [
      "5768 3600\n"
     ]
    }
   ],
   "source": [
    "wt=bc_90ile(bd+'wt.txt')\n",
    "wt=set(wt)\n",
    "a636p=bc_90ile(bd+'A636P.txt')\n",
    "a636p=set(a636p)\n",
    "# import pickle\n",
    "# bc_cat = pickle.load( open(bd+ 'bc_catalog'+'.json', \"rb\" ) )\n",
    "# wt, a636p = bc_cat\n",
    "print len(wt), len (a636p)"
   ]
  },
  {
   "cell_type": "code",
   "execution_count": 330,
   "metadata": {},
   "outputs": [
    {
     "data": {
      "text/plain": [
       "<matplotlib_venn._common.VennDiagram instance at 0x12480e320>"
      ]
     },
     "execution_count": 330,
     "metadata": {},
     "output_type": "execute_result"
    },
    {
     "data": {
      "image/png": "[encoded data removed]",
      "text/plain": [
       "<matplotlib.figure.Figure at 0x127f56850>"
      ]
     },
     "metadata": {},
     "output_type": "display_data"
    }
   ],
   "source": [
    "from matplotlib_venn import venn2\n",
    "venn2([wt, a636p], set_labels = ('WT', 'A636P'))\n",
    "#at this point the two sets of barcodes have no overlap. Algorithm-wise, either in WT, or A636P, or in PALs"
   ]
  },
  {
   "cell_type": "code",
   "execution_count": null,
   "metadata": {
    "collapsed": true
   },
   "outputs": [],
   "source": []
  },
  {
   "cell_type": "code",
   "execution_count": 331,
   "metadata": {},
   "outputs": [
    {
     "name": "stdout",
     "output_type": "stream",
     "text": [
      "7179 3406 7635\n"
     ]
    }
   ],
   "source": [
    "dd = bd+'wt-a636p_venn/'\n",
    "mock_bcs = bc_90ile(dd+'w2_db.bc_cluster.txt')\n",
    "db6tg_bcs = bc_90ile(dd+'w5_6TGB.bc_cluster.txt')\n",
    "bc_all = set(mock_bcs + db6tg_bcs)\n",
    "print len(mock_bcs), len(db6tg_bcs), len(bc_all)"
   ]
  },
  {
   "cell_type": "code",
   "execution_count": 332,
   "metadata": {},
   "outputs": [
    {
     "data": {
      "text/plain": [
       "<matplotlib_venn._common.VennDiagram instance at 0x1299cd440>"
      ]
     },
     "execution_count": 332,
     "metadata": {},
     "output_type": "execute_result"
    },
    {
     "data": {
      "image/png": "[encoded data removed]",
      "text/plain": [
       "<matplotlib.figure.Figure at 0x11a653dd0>"
      ]
     },
     "metadata": {},
     "output_type": "display_data"
    }
   ],
   "source": [
    "from matplotlib_venn import venn2\n",
    "venn2([set(mock_bcs), set(db6tg_bcs)], set_labels = ('Dox_only', 'D6TG_B'))\n",
    "\n",
    "#  this Venn diagram isn't great. as post 6TG treatment barcodes should be a subset of pre-6TG treatment, however, only 50% are"
   ]
  },
  {
   "cell_type": "code",
   "execution_count": 333,
   "metadata": {
    "collapsed": true
   },
   "outputs": [],
   "source": [
    "def dict_gen(clusterBC_file):\n",
    "    dict1 = {}\n",
    "    fh = open (clusterBC_file, 'r')\n",
    "    for line in fh:\n",
    "        dict1[line.split()[0]] = int(line.split()[1])\n",
    "    return dict1\n",
    "    fh.close()"
   ]
  },
  {
   "cell_type": "code",
   "execution_count": 334,
   "metadata": {},
   "outputs": [
    {
     "data": {
      "text/html": [
       "<div>\n",
       "<table border=\"1\" class=\"dataframe\">\n",
       "  <thead>\n",
       "    <tr style=\"text-align: right;\">\n",
       "      <th></th>\n",
       "      <th>w2_db</th>\n",
       "      <th>w5_6TGB</th>\n",
       "    </tr>\n",
       "  </thead>\n",
       "  <tbody>\n",
       "    <tr>\n",
       "      <th>CGTATCATCATCAGGGCATTTGG</th>\n",
       "      <td>NaN</td>\n",
       "      <td>NaN</td>\n",
       "    </tr>\n",
       "    <tr>\n",
       "      <th>GTACTTCCTTATAATCACGGTGG</th>\n",
       "      <td>NaN</td>\n",
       "      <td>NaN</td>\n",
       "    </tr>\n",
       "    <tr>\n",
       "      <th>CTCGGACCCCGGAAGAAGCTTGG</th>\n",
       "      <td>NaN</td>\n",
       "      <td>NaN</td>\n",
       "    </tr>\n",
       "    <tr>\n",
       "      <th>TAAAACGCACCACTGGCTATGG</th>\n",
       "      <td>NaN</td>\n",
       "      <td>NaN</td>\n",
       "    </tr>\n",
       "    <tr>\n",
       "      <th>TGAGTTAGAGGCAGCTCCGATGG</th>\n",
       "      <td>NaN</td>\n",
       "      <td>NaN</td>\n",
       "    </tr>\n",
       "  </tbody>\n",
       "</table>\n",
       "</div>"
      ],
      "text/plain": [
       "                        w2_db w5_6TGB\n",
       "CGTATCATCATCAGGGCATTTGG   NaN     NaN\n",
       "GTACTTCCTTATAATCACGGTGG   NaN     NaN\n",
       "CTCGGACCCCGGAAGAAGCTTGG   NaN     NaN\n",
       "TAAAACGCACCACTGGCTATGG    NaN     NaN\n",
       "TGAGTTAGAGGCAGCTCCGATGG   NaN     NaN"
      ]
     },
     "execution_count": 334,
     "metadata": {},
     "output_type": "execute_result"
    }
   ],
   "source": [
    "col_names = ['w2_db','w5_6TGB']\n",
    "df = pd.DataFrame(None, index=bc_all, columns = col_names)\n",
    "df.head()\n"
   ]
  },
  {
   "cell_type": "code",
   "execution_count": 335,
   "metadata": {},
   "outputs": [
    {
     "name": "stdout",
     "output_type": "stream",
     "text": [
      "w2_db\n",
      "13897\n",
      "w5_6TGB\n",
      "9593\n"
     ]
    }
   ],
   "source": [
    "all_bcfiles = ['w2_db.bc_cluster.txt','w5_6TGB.bc_cluster.txt']\n",
    "\n",
    "from collections import defaultdict\n",
    "\n",
    "for fn in all_bcfiles:\n",
    "    bc_dict = dict_gen(dd+fn)\n",
    "    col_name = fn[:-15]\n",
    "    print col_name\n",
    "    print len(bc_dict)\n",
    "    for bc_lin in bc_all:\n",
    "        if bc_lin in bc_dict.keys():\n",
    "            df.at[bc_lin, col_name] = int(bc_dict[bc_lin])\n",
    "        else:\n",
    "            df.at[bc_lin, col_name] = 0"
   ]
  },
  {
   "cell_type": "code",
   "execution_count": 336,
   "metadata": {
    "collapsed": true
   },
   "outputs": [],
   "source": [
    "cutoff=3\n",
    "df = df[df['w2_db']>cutoff]\n",
    "# df = df[df['w5_6TGB']>3]"
   ]
  },
  {
   "cell_type": "code",
   "execution_count": 337,
   "metadata": {
    "collapsed": true
   },
   "outputs": [],
   "source": [
    "# df = df + 0.5\n",
    "for bc_lin in bc_all:\n",
    "    if bc_lin in wt:\n",
    "        df.at[bc_lin, 'color'] = 'green'\n",
    "    elif bc_lin in a636p:\n",
    "        df.at[bc_lin, 'color'] = 'red'\n",
    "    else: \n",
    "        df.at[bc_lin, 'color'] = 'grey'\n",
    "df = df.dropna()\n",
    "df.iloc[:,:-1]= df.iloc[:,:-1]+0.1"
   ]
  },
  {
   "cell_type": "code",
   "execution_count": 338,
   "metadata": {},
   "outputs": [
    {
     "data": {
      "text/html": [
       "<div>\n",
       "<table border=\"1\" class=\"dataframe\">\n",
       "  <thead>\n",
       "    <tr style=\"text-align: right;\">\n",
       "      <th></th>\n",
       "      <th>w2_db</th>\n",
       "      <th>w5_6TGB</th>\n",
       "      <th>color</th>\n",
       "      <th>w5_6TGB_norm</th>\n",
       "      <th>w2_db_norm</th>\n",
       "    </tr>\n",
       "  </thead>\n",
       "  <tbody>\n",
       "    <tr>\n",
       "      <th>CGTATCATCATCAGGGCATTTGG</th>\n",
       "      <td>43.1</td>\n",
       "      <td>67.1</td>\n",
       "      <td>red</td>\n",
       "      <td>0.000949254</td>\n",
       "      <td>0.000663883</td>\n",
       "    </tr>\n",
       "    <tr>\n",
       "      <th>GTACTTCCTTATAATCACGGTGG</th>\n",
       "      <td>9.1</td>\n",
       "      <td>2.1</td>\n",
       "      <td>green</td>\n",
       "      <td>2.97084e-05</td>\n",
       "      <td>0.00014017</td>\n",
       "    </tr>\n",
       "    <tr>\n",
       "      <th>TGAGTTAGAGGCAGCTCCGATGG</th>\n",
       "      <td>4.1</td>\n",
       "      <td>0.1</td>\n",
       "      <td>green</td>\n",
       "      <td>1.41469e-06</td>\n",
       "      <td>6.31536e-05</td>\n",
       "    </tr>\n",
       "    <tr>\n",
       "      <th>GATCAGGGCAAGATCTTTTATGG</th>\n",
       "      <td>11.1</td>\n",
       "      <td>0.1</td>\n",
       "      <td>red</td>\n",
       "      <td>1.41469e-06</td>\n",
       "      <td>0.000170977</td>\n",
       "    </tr>\n",
       "    <tr>\n",
       "      <th>TGGGCGGGATGATCATGTGCTGG</th>\n",
       "      <td>4.1</td>\n",
       "      <td>25.1</td>\n",
       "      <td>red</td>\n",
       "      <td>0.000355086</td>\n",
       "      <td>6.31536e-05</td>\n",
       "    </tr>\n",
       "  </tbody>\n",
       "</table>\n",
       "</div>"
      ],
      "text/plain": [
       "                        w2_db w5_6TGB  color w5_6TGB_norm   w2_db_norm\n",
       "CGTATCATCATCAGGGCATTTGG  43.1    67.1    red  0.000949254  0.000663883\n",
       "GTACTTCCTTATAATCACGGTGG   9.1     2.1  green  2.97084e-05   0.00014017\n",
       "TGAGTTAGAGGCAGCTCCGATGG   4.1     0.1  green  1.41469e-06  6.31536e-05\n",
       "GATCAGGGCAAGATCTTTTATGG  11.1     0.1    red  1.41469e-06  0.000170977\n",
       "TGGGCGGGATGATCATGTGCTGG   4.1    25.1    red  0.000355086  6.31536e-05"
      ]
     },
     "execution_count": 338,
     "metadata": {},
     "output_type": "execute_result"
    }
   ],
   "source": [
    "sum_6TG = df['w5_6TGB'].sum()\n",
    "sum_mock = df['w2_db'].sum()\n",
    "df['w5_6TGB_norm'] = df['w5_6TGB']/sum_6TG\n",
    "df['w2_db_norm'] = df['w2_db']/sum_mock\n",
    "df.head()"
   ]
  },
  {
   "cell_type": "code",
   "execution_count": 339,
   "metadata": {
    "collapsed": true
   },
   "outputs": [],
   "source": [
    "# df"
   ]
  },
  {
   "cell_type": "code",
   "execution_count": 340,
   "metadata": {},
   "outputs": [
    {
     "data": {
      "text/html": [
       "<div>\n",
       "<table border=\"1\" class=\"dataframe\">\n",
       "  <thead>\n",
       "    <tr style=\"text-align: right;\">\n",
       "      <th></th>\n",
       "      <th>w2_db</th>\n",
       "      <th>w5_6TGB</th>\n",
       "      <th>color</th>\n",
       "      <th>w5_6TGB_norm</th>\n",
       "      <th>w2_db_norm</th>\n",
       "      <th>enrich</th>\n",
       "      <th>enrich_log10</th>\n",
       "    </tr>\n",
       "  </thead>\n",
       "  <tbody>\n",
       "    <tr>\n",
       "      <th>CGTATCATCATCAGGGCATTTGG</th>\n",
       "      <td>43.1</td>\n",
       "      <td>67.1</td>\n",
       "      <td>red</td>\n",
       "      <td>0.000949254</td>\n",
       "      <td>0.000663883</td>\n",
       "      <td>1.42985</td>\n",
       "      <td>0.155291</td>\n",
       "    </tr>\n",
       "    <tr>\n",
       "      <th>GTACTTCCTTATAATCACGGTGG</th>\n",
       "      <td>9.1</td>\n",
       "      <td>2.1</td>\n",
       "      <td>green</td>\n",
       "      <td>2.97084e-05</td>\n",
       "      <td>0.00014017</td>\n",
       "      <td>0.211945</td>\n",
       "      <td>-0.673776</td>\n",
       "    </tr>\n",
       "    <tr>\n",
       "      <th>TGAGTTAGAGGCAGCTCCGATGG</th>\n",
       "      <td>4.1</td>\n",
       "      <td>0.1</td>\n",
       "      <td>green</td>\n",
       "      <td>1.41469e-06</td>\n",
       "      <td>6.31536e-05</td>\n",
       "      <td>0.0224007</td>\n",
       "      <td>-1.649738</td>\n",
       "    </tr>\n",
       "    <tr>\n",
       "      <th>GATCAGGGCAAGATCTTTTATGG</th>\n",
       "      <td>11.1</td>\n",
       "      <td>0.1</td>\n",
       "      <td>red</td>\n",
       "      <td>1.41469e-06</td>\n",
       "      <td>0.000170977</td>\n",
       "      <td>0.00827414</td>\n",
       "      <td>-2.082277</td>\n",
       "    </tr>\n",
       "    <tr>\n",
       "      <th>TGGGCGGGATGATCATGTGCTGG</th>\n",
       "      <td>4.1</td>\n",
       "      <td>25.1</td>\n",
       "      <td>red</td>\n",
       "      <td>0.000355086</td>\n",
       "      <td>6.31536e-05</td>\n",
       "      <td>5.62258</td>\n",
       "      <td>0.749936</td>\n",
       "    </tr>\n",
       "  </tbody>\n",
       "</table>\n",
       "</div>"
      ],
      "text/plain": [
       "                        w2_db w5_6TGB  color w5_6TGB_norm   w2_db_norm  \\\n",
       "CGTATCATCATCAGGGCATTTGG  43.1    67.1    red  0.000949254  0.000663883   \n",
       "GTACTTCCTTATAATCACGGTGG   9.1     2.1  green  2.97084e-05   0.00014017   \n",
       "TGAGTTAGAGGCAGCTCCGATGG   4.1     0.1  green  1.41469e-06  6.31536e-05   \n",
       "GATCAGGGCAAGATCTTTTATGG  11.1     0.1    red  1.41469e-06  0.000170977   \n",
       "TGGGCGGGATGATCATGTGCTGG   4.1    25.1    red  0.000355086  6.31536e-05   \n",
       "\n",
       "                             enrich  enrich_log10  \n",
       "CGTATCATCATCAGGGCATTTGG     1.42985      0.155291  \n",
       "GTACTTCCTTATAATCACGGTGG    0.211945     -0.673776  \n",
       "TGAGTTAGAGGCAGCTCCGATGG   0.0224007     -1.649738  \n",
       "GATCAGGGCAAGATCTTTTATGG  0.00827414     -2.082277  \n",
       "TGGGCGGGATGATCATGTGCTGG     5.62258      0.749936  "
      ]
     },
     "execution_count": 340,
     "metadata": {},
     "output_type": "execute_result"
    }
   ],
   "source": [
    "df1 = df.copy()\n",
    "df1['enrich']= df1['w5_6TGB_norm']/df1['w2_db_norm']\n",
    "df1['enrich_log10']=df1['enrich'].astype(np.float64).apply(log10)\n",
    "df1.head()"
   ]
  },
  {
   "cell_type": "code",
   "execution_count": 341,
   "metadata": {},
   "outputs": [
    {
     "data": {
      "text/plain": [
       "(array([   0.,    0.,    0.,    0.,    0.,    0.,    1.,    2.,    4.,\n",
       "           5.,    9.,   14.,   14.,   17.,   40.,   46.,   68.,   58.,\n",
       "          71.,   84.,  114.,  167.,  201.,  238.,    0.,  249.,    0.,\n",
       "         350.,    0.,    0.,    1.,    0.,    4.,    1.,    3.,    7.,\n",
       "           4.,   10.,    7.,   12.,   19.,   10.,    6.,   13.,   18.,\n",
       "          12.,    9.,   21.,    8.,   11.,    4.,    9.,    3.,   18.,\n",
       "           2.,    4.,    6.,    4.,    2.,    5.,    2.,    4.,    0.,\n",
       "           0.,    1.,    1.,    0.,    1.,    0.,    1.,    0.,    0.,\n",
       "           0.,    0.,    0.,    0.,    0.,    0.,    0.,    0.,    0.,\n",
       "           0.,    0.,    0.,    0.,    0.,    0.,    0.,    0.,    0.,\n",
       "           0.,    0.,    0.,    0.,    0.,    0.,    0.,    0.,    0.,\n",
       "           0.,    0.,    0.,    0.,    0.,    0.,    0.,    0.,    0.,\n",
       "           0.,    0.,    0.,    0.,    0.,    0.,    0.,    0.,    0.,\n",
       "           0.,    0.]),\n",
       " array([ -3.00000000e+00,  -2.95000000e+00,  -2.90000000e+00,\n",
       "         -2.85000000e+00,  -2.80000000e+00,  -2.75000000e+00,\n",
       "         -2.70000000e+00,  -2.65000000e+00,  -2.60000000e+00,\n",
       "         -2.55000000e+00,  -2.50000000e+00,  -2.45000000e+00,\n",
       "         -2.40000000e+00,  -2.35000000e+00,  -2.30000000e+00,\n",
       "         -2.25000000e+00,  -2.20000000e+00,  -2.15000000e+00,\n",
       "         -2.10000000e+00,  -2.05000000e+00,  -2.00000000e+00,\n",
       "         -1.95000000e+00,  -1.90000000e+00,  -1.85000000e+00,\n",
       "         -1.80000000e+00,  -1.75000000e+00,  -1.70000000e+00,\n",
       "         -1.65000000e+00,  -1.60000000e+00,  -1.55000000e+00,\n",
       "         -1.50000000e+00,  -1.45000000e+00,  -1.40000000e+00,\n",
       "         -1.35000000e+00,  -1.30000000e+00,  -1.25000000e+00,\n",
       "         -1.20000000e+00,  -1.15000000e+00,  -1.10000000e+00,\n",
       "         -1.05000000e+00,  -1.00000000e+00,  -9.50000000e-01,\n",
       "         -9.00000000e-01,  -8.50000000e-01,  -8.00000000e-01,\n",
       "         -7.50000000e-01,  -7.00000000e-01,  -6.50000000e-01,\n",
       "         -6.00000000e-01,  -5.50000000e-01,  -5.00000000e-01,\n",
       "         -4.50000000e-01,  -4.00000000e-01,  -3.50000000e-01,\n",
       "         -3.00000000e-01,  -2.50000000e-01,  -2.00000000e-01,\n",
       "         -1.50000000e-01,  -1.00000000e-01,  -5.00000000e-02,\n",
       "         -1.06581410e-14,   5.00000000e-02,   1.00000000e-01,\n",
       "          1.50000000e-01,   2.00000000e-01,   2.50000000e-01,\n",
       "          3.00000000e-01,   3.50000000e-01,   4.00000000e-01,\n",
       "          4.50000000e-01,   5.00000000e-01,   5.50000000e-01,\n",
       "          6.00000000e-01,   6.50000000e-01,   7.00000000e-01,\n",
       "          7.50000000e-01,   8.00000000e-01,   8.50000000e-01,\n",
       "          9.00000000e-01,   9.50000000e-01,   1.00000000e+00,\n",
       "          1.05000000e+00,   1.10000000e+00,   1.15000000e+00,\n",
       "          1.20000000e+00,   1.25000000e+00,   1.30000000e+00,\n",
       "          1.35000000e+00,   1.40000000e+00,   1.45000000e+00,\n",
       "          1.50000000e+00,   1.55000000e+00,   1.60000000e+00,\n",
       "          1.65000000e+00,   1.70000000e+00,   1.75000000e+00,\n",
       "          1.80000000e+00,   1.85000000e+00,   1.90000000e+00,\n",
       "          1.95000000e+00,   2.00000000e+00,   2.05000000e+00,\n",
       "          2.10000000e+00,   2.15000000e+00,   2.20000000e+00,\n",
       "          2.25000000e+00,   2.30000000e+00,   2.35000000e+00,\n",
       "          2.40000000e+00,   2.45000000e+00,   2.50000000e+00,\n",
       "          2.55000000e+00,   2.60000000e+00,   2.65000000e+00,\n",
       "          2.70000000e+00,   2.75000000e+00,   2.80000000e+00,\n",
       "          2.85000000e+00,   2.90000000e+00,   2.95000000e+00]),\n",
       " <a list of 119 Patch objects>)"
      ]
     },
     "execution_count": 341,
     "metadata": {},
     "output_type": "execute_result"
    },
    {
     "data": {
      "image/png": "[encoded data removed]",
      "text/plain": [
       "<matplotlib.figure.Figure at 0x123f6ec10>"
      ]
     },
     "metadata": {},
     "output_type": "display_data"
    }
   ],
   "source": [
    "df_a636p1 = df1[df1['color']=='red']\n",
    "df_wt1 = df1[df1['color']=='green']\n",
    "df_PALs = df1[df1['color']=='grey']\n",
    "# hist([df_a636p1['enrich'], df_wt1['enrich']], bins=100, histtype='bar', log=True, color=['r','g'])\n",
    "\n",
    "plt.hist(df_a636p1['enrich_log10'], bins=np.arange(-3,3,0.05),color='red')\n",
    "plt.hist(df_wt1['enrich_log10'], bins=np.arange(-3,3,0.05),color='limegreen',alpha = 0.7)\n",
    "# plt.hist(df_PALs['enrich'], bins=np.logspace(np.log10(0.01),np.log10(100), 30),color='grey')\n",
    "# plt.gca().set_xscale(\"log\")\n",
    "# plt.yscale('log')"
   ]
  },
  {
   "cell_type": "code",
   "execution_count": 342,
   "metadata": {},
   "outputs": [
    {
     "data": {
      "text/html": [
       "<div>\n",
       "<table border=\"1\" class=\"dataframe\">\n",
       "  <thead>\n",
       "    <tr style=\"text-align: right;\">\n",
       "      <th></th>\n",
       "      <th>w2_db</th>\n",
       "      <th>w5_6TGB</th>\n",
       "      <th>color</th>\n",
       "      <th>w5_6TGB_norm</th>\n",
       "      <th>w2_db_norm</th>\n",
       "      <th>enrich</th>\n",
       "      <th>enrich_log10</th>\n",
       "    </tr>\n",
       "  </thead>\n",
       "  <tbody>\n",
       "  </tbody>\n",
       "</table>\n",
       "</div>"
      ],
      "text/plain": [
       "Empty DataFrame\n",
       "Columns: [w2_db, w5_6TGB, color, w5_6TGB_norm, w2_db_norm, enrich, enrich_log10]\n",
       "Index: []"
      ]
     },
     "execution_count": 342,
     "metadata": {},
     "output_type": "execute_result"
    }
   ],
   "source": [
    "dfx=df_wt1[df_wt1['enrich_log10']>1]\n",
    "# dfx=dfx[dfx['enrich_log10']<0]\n",
    "dfx"
   ]
  },
  {
   "cell_type": "code",
   "execution_count": 343,
   "metadata": {},
   "outputs": [
    {
     "data": {
      "text/html": [
       "<div>\n",
       "<table border=\"1\" class=\"dataframe\">\n",
       "  <thead>\n",
       "    <tr style=\"text-align: right;\">\n",
       "      <th></th>\n",
       "      <th>w2_db</th>\n",
       "      <th>w5_6TGB</th>\n",
       "      <th>color</th>\n",
       "      <th>w5_6TGB_norm</th>\n",
       "      <th>w2_db_norm</th>\n",
       "      <th>enrich</th>\n",
       "      <th>enrich_log10</th>\n",
       "    </tr>\n",
       "  </thead>\n",
       "  <tbody>\n",
       "    <tr>\n",
       "      <th>CGTATCATCATCAGGGCATTTGG</th>\n",
       "      <td>43.1</td>\n",
       "      <td>67.1</td>\n",
       "      <td>red</td>\n",
       "      <td>0.000949254</td>\n",
       "      <td>0.000663883</td>\n",
       "      <td>1.42985</td>\n",
       "      <td>0.155291</td>\n",
       "    </tr>\n",
       "    <tr>\n",
       "      <th>GTACTTCCTTATAATCACGGTGG</th>\n",
       "      <td>9.1</td>\n",
       "      <td>2.1</td>\n",
       "      <td>green</td>\n",
       "      <td>2.97084e-05</td>\n",
       "      <td>0.00014017</td>\n",
       "      <td>0.211945</td>\n",
       "      <td>-0.673776</td>\n",
       "    </tr>\n",
       "    <tr>\n",
       "      <th>TGAGTTAGAGGCAGCTCCGATGG</th>\n",
       "      <td>4.1</td>\n",
       "      <td>0.1</td>\n",
       "      <td>green</td>\n",
       "      <td>1.41469e-06</td>\n",
       "      <td>6.31536e-05</td>\n",
       "      <td>0.0224007</td>\n",
       "      <td>-1.649738</td>\n",
       "    </tr>\n",
       "    <tr>\n",
       "      <th>GATCAGGGCAAGATCTTTTATGG</th>\n",
       "      <td>11.1</td>\n",
       "      <td>0.1</td>\n",
       "      <td>red</td>\n",
       "      <td>1.41469e-06</td>\n",
       "      <td>0.000170977</td>\n",
       "      <td>0.00827414</td>\n",
       "      <td>-2.082277</td>\n",
       "    </tr>\n",
       "    <tr>\n",
       "      <th>TGGGCGGGATGATCATGTGCTGG</th>\n",
       "      <td>4.1</td>\n",
       "      <td>25.1</td>\n",
       "      <td>red</td>\n",
       "      <td>0.000355086</td>\n",
       "      <td>6.31536e-05</td>\n",
       "      <td>5.62258</td>\n",
       "      <td>0.749936</td>\n",
       "    </tr>\n",
       "  </tbody>\n",
       "</table>\n",
       "</div>"
      ],
      "text/plain": [
       "                        w2_db w5_6TGB  color w5_6TGB_norm   w2_db_norm  \\\n",
       "CGTATCATCATCAGGGCATTTGG  43.1    67.1    red  0.000949254  0.000663883   \n",
       "GTACTTCCTTATAATCACGGTGG   9.1     2.1  green  2.97084e-05   0.00014017   \n",
       "TGAGTTAGAGGCAGCTCCGATGG   4.1     0.1  green  1.41469e-06  6.31536e-05   \n",
       "GATCAGGGCAAGATCTTTTATGG  11.1     0.1    red  1.41469e-06  0.000170977   \n",
       "TGGGCGGGATGATCATGTGCTGG   4.1    25.1    red  0.000355086  6.31536e-05   \n",
       "\n",
       "                             enrich  enrich_log10  \n",
       "CGTATCATCATCAGGGCATTTGG     1.42985      0.155291  \n",
       "GTACTTCCTTATAATCACGGTGG    0.211945     -0.673776  \n",
       "TGAGTTAGAGGCAGCTCCGATGG   0.0224007     -1.649738  \n",
       "GATCAGGGCAAGATCTTTTATGG  0.00827414     -2.082277  \n",
       "TGGGCGGGATGATCATGTGCTGG     5.62258      0.749936  "
      ]
     },
     "execution_count": 343,
     "metadata": {},
     "output_type": "execute_result"
    }
   ],
   "source": [
    "df2 = df1.copy()\n",
    "df2['enrich_log10']=df2['enrich'].astype(np.float64).apply(log10)\n",
    "df2.head()"
   ]
  },
  {
   "cell_type": "code",
   "execution_count": 344,
   "metadata": {},
   "outputs": [
    {
     "data": {
      "text/html": [
       "<div>\n",
       "<table border=\"1\" class=\"dataframe\">\n",
       "  <thead>\n",
       "    <tr style=\"text-align: right;\">\n",
       "      <th></th>\n",
       "      <th>w2_db</th>\n",
       "      <th>w5_6TGB</th>\n",
       "      <th>color</th>\n",
       "      <th>w5_6TGB_norm</th>\n",
       "      <th>w2_db_norm</th>\n",
       "      <th>enrich</th>\n",
       "      <th>enrich_log10</th>\n",
       "      <th>w5_6TGB_norm_log10</th>\n",
       "      <th>w2_db_norm_log10</th>\n",
       "    </tr>\n",
       "  </thead>\n",
       "  <tbody>\n",
       "    <tr>\n",
       "      <th>CGTATCATCATCAGGGCATTTGG</th>\n",
       "      <td>43.1</td>\n",
       "      <td>67.1</td>\n",
       "      <td>red</td>\n",
       "      <td>0.000949254</td>\n",
       "      <td>0.000663883</td>\n",
       "      <td>1.42985</td>\n",
       "      <td>0.155291</td>\n",
       "      <td>-3.022618</td>\n",
       "      <td>-3.177909</td>\n",
       "    </tr>\n",
       "    <tr>\n",
       "      <th>GTACTTCCTTATAATCACGGTGG</th>\n",
       "      <td>9.1</td>\n",
       "      <td>2.1</td>\n",
       "      <td>green</td>\n",
       "      <td>2.97084e-05</td>\n",
       "      <td>0.00014017</td>\n",
       "      <td>0.211945</td>\n",
       "      <td>-0.673776</td>\n",
       "      <td>-4.527121</td>\n",
       "      <td>-3.853344</td>\n",
       "    </tr>\n",
       "    <tr>\n",
       "      <th>TGAGTTAGAGGCAGCTCCGATGG</th>\n",
       "      <td>4.1</td>\n",
       "      <td>0.1</td>\n",
       "      <td>green</td>\n",
       "      <td>1.41469e-06</td>\n",
       "      <td>6.31536e-05</td>\n",
       "      <td>0.0224007</td>\n",
       "      <td>-1.649738</td>\n",
       "      <td>-5.849340</td>\n",
       "      <td>-4.199602</td>\n",
       "    </tr>\n",
       "    <tr>\n",
       "      <th>GATCAGGGCAAGATCTTTTATGG</th>\n",
       "      <td>11.1</td>\n",
       "      <td>0.1</td>\n",
       "      <td>red</td>\n",
       "      <td>1.41469e-06</td>\n",
       "      <td>0.000170977</td>\n",
       "      <td>0.00827414</td>\n",
       "      <td>-2.082277</td>\n",
       "      <td>-5.849340</td>\n",
       "      <td>-3.767063</td>\n",
       "    </tr>\n",
       "    <tr>\n",
       "      <th>TGGGCGGGATGATCATGTGCTGG</th>\n",
       "      <td>4.1</td>\n",
       "      <td>25.1</td>\n",
       "      <td>red</td>\n",
       "      <td>0.000355086</td>\n",
       "      <td>6.31536e-05</td>\n",
       "      <td>5.62258</td>\n",
       "      <td>0.749936</td>\n",
       "      <td>-3.449666</td>\n",
       "      <td>-4.199602</td>\n",
       "    </tr>\n",
       "  </tbody>\n",
       "</table>\n",
       "</div>"
      ],
      "text/plain": [
       "                        w2_db w5_6TGB  color w5_6TGB_norm   w2_db_norm  \\\n",
       "CGTATCATCATCAGGGCATTTGG  43.1    67.1    red  0.000949254  0.000663883   \n",
       "GTACTTCCTTATAATCACGGTGG   9.1     2.1  green  2.97084e-05   0.00014017   \n",
       "TGAGTTAGAGGCAGCTCCGATGG   4.1     0.1  green  1.41469e-06  6.31536e-05   \n",
       "GATCAGGGCAAGATCTTTTATGG  11.1     0.1    red  1.41469e-06  0.000170977   \n",
       "TGGGCGGGATGATCATGTGCTGG   4.1    25.1    red  0.000355086  6.31536e-05   \n",
       "\n",
       "                             enrich  enrich_log10  w5_6TGB_norm_log10  \\\n",
       "CGTATCATCATCAGGGCATTTGG     1.42985      0.155291           -3.022618   \n",
       "GTACTTCCTTATAATCACGGTGG    0.211945     -0.673776           -4.527121   \n",
       "TGAGTTAGAGGCAGCTCCGATGG   0.0224007     -1.649738           -5.849340   \n",
       "GATCAGGGCAAGATCTTTTATGG  0.00827414     -2.082277           -5.849340   \n",
       "TGGGCGGGATGATCATGTGCTGG     5.62258      0.749936           -3.449666   \n",
       "\n",
       "                         w2_db_norm_log10  \n",
       "CGTATCATCATCAGGGCATTTGG         -3.177909  \n",
       "GTACTTCCTTATAATCACGGTGG         -3.853344  \n",
       "TGAGTTAGAGGCAGCTCCGATGG         -4.199602  \n",
       "GATCAGGGCAAGATCTTTTATGG         -3.767063  \n",
       "TGGGCGGGATGATCATGTGCTGG         -4.199602  "
      ]
     },
     "execution_count": 344,
     "metadata": {},
     "output_type": "execute_result"
    }
   ],
   "source": [
    "df2['w5_6TGB_norm_log10']=df2['w5_6TGB_norm'].astype(np.float64).apply(log10)\n",
    "df2['w2_db_norm_log10']=df2['w2_db_norm'].astype(np.float64).apply(log10)\n",
    "df2.head()"
   ]
  },
  {
   "cell_type": "code",
   "execution_count": 345,
   "metadata": {},
   "outputs": [
    {
     "data": {
      "image/png": "[encoded data removed]",
      "text/plain": [
       "<matplotlib.figure.Figure at 0x127aad390>"
      ]
     },
     "metadata": {},
     "output_type": "display_data"
    }
   ],
   "source": [
    "plt.figure(figsize=(10,10))\n",
    "x = df2['w2_db_norm_log10']\n",
    "y = df2['w5_6TGB_norm_log10']\n",
    "xlabel('w2_db_norm_log10')\n",
    "ylabel('w5_6TGB_norm_log10')\n",
    "plt.scatter(x,y,c=df2['color'],s=5)\n",
    "plt.ylim=(-6, 0)\n",
    "plt.ylim=(-6, 0)\n"
   ]
  },
  {
   "cell_type": "code",
   "execution_count": 346,
   "metadata": {},
   "outputs": [
    {
     "data": {
      "text/plain": [
       "<matplotlib.axes._subplots.AxesSubplot at 0x126cf5e90>"
      ]
     },
     "execution_count": 346,
     "metadata": {},
     "output_type": "execute_result"
    },
    {
     "data": {
      "image/png": "[encoded data removed]",
      "text/plain": [
       "<matplotlib.figure.Figure at 0x127a97950>"
      ]
     },
     "metadata": {},
     "output_type": "display_data"
    }
   ],
   "source": [
    "\n",
    "import seaborn as sns\n",
    "sns.distplot(df_a636p1['enrich_log10'],color='r',bins=100,norm_hist=True)\n",
    "sns.distplot(df_wt1['enrich_log10'],color='g',bins=50,norm_hist=True)\n",
    "# sns.distplot(df_pals['enrich_log10'],color='grey',bins=50,norm_hist=True)"
   ]
  }
 ],
 "metadata": {
  "anaconda-cloud": {},
  "kernelspec": {
   "display_name": "Python [py2]",
   "language": "python",
   "name": "Python [py2]"
  },
  "language_info": {
   "codemirror_mode": {
    "name": "ipython",
    "version": 2
   },
   "file_extension": ".py",
   "mimetype": "text/x-python",
   "name": "python",
   "nbconvert_exporter": "python",
   "pygments_lexer": "ipython2",
   "version": "2.7.12"
  }
 },
 "nbformat": 4,
 "nbformat_minor": 1
}
